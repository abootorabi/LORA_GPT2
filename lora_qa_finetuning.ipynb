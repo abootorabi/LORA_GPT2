{
 "cells": [
  {
   "cell_type": "code",
   "execution_count": 1,
   "id": "50d66739-3cef-4809-a6fe-a95982c30447",
   "metadata": {},
   "outputs": [],
   "source": [
    "import torch\n",
    "import gc\n",
    "from transformers import AutoTokenizer, AutoModelForCausalLM, AutoConfig\n",
    "from datasets import load_dataset\n",
    "import evaluate\n",
    "from peft import LoraConfig, TaskType, get_peft_model, AutoPeftModelForCausalLM , PeftModel\n",
    "import wandb"
   ]
  },
  {
   "cell_type": "code",
   "execution_count": null,
   "id": "1379a849-cd4e-44c1-bc1d-78f70690814a",
   "metadata": {},
   "outputs": [],
   "source": [
    "config = {\n",
    "  \"run_name\" : 'final_config' , \n",
    "  \"train_batch_size\": 4,\n",
    "  \"eval_batch_size\": 4,\n",
    "  \"learning_rate\": 2e-4,\n",
    "  \"num_train_epochs\": 3,\n",
    "  \"logging_steps\": 250,\n",
    "  \"eval_steps\": 500,\n",
    "  \"save_steps\": 500,\n",
    "  \"lora_r\": 16,\n",
    "  \"lora_alpha\": 32 ,\n",
    "  \"lora_dropout\": 0.05,\n",
    "  \"target_modules\": [\"c_attn\", \"c_proj\", \"c_fc\", \"mlp.c_proj\"]\n",
    "}\n",
    "\n",
    "# Model and tokenizer setup\n",
    "model_name = \"gpt2\"\n",
    "tokenizer = AutoTokenizer.from_pretrained(model_name)\n",
    "# Set pad token to eos_token for causal LM\n",
    "tokenizer.pad_token = tokenizer.eos_token\n",
    "\n",
    "model_config = AutoConfig.from_pretrained(model_name)\n",
    "model = AutoModelForCausalLM.from_pretrained(model_name, config=model_config)\n",
    "model.resize_token_embeddings(len(tokenizer))  # ensure embeddings cover pad token\n",
    "\n",
    "dataset = load_dataset(\"squad\")\n",
    "# Take a small validation subset for quick checks\n",
    "vali_ds = dataset[\"validation\"].shuffle(seed=42).select(range(400))\n",
    "# Split train into train/test for fine-tuning and eval\n",
    "split = dataset[\"train\"].train_test_split(test_size=0.1, seed=42)\n",
    "train_ds = split[\"train\"].shuffle(seed=42).select(range(6000))\n",
    "eval_ds  = split[\"test\"].shuffle(seed=42).select(range(300))\n",
    "\n",
    "del dataset, split\n",
    "gc.collect()\n",
    "\n"
   ]
  },
  {
   "cell_type": "code",
   "execution_count": 3,
   "id": "42982948-4272-4503-91b7-375a5d2a6440",
   "metadata": {},
   "outputs": [
    {
     "name": "stdout",
     "output_type": "stream",
     "text": [
      "Training examples: 6000\n",
      "Eval examples: 300\n"
     ]
    }
   ],
   "source": [
    "\n",
    "# Preprocessing function for causal LM QA\n",
    "max_length = 2048\n",
    "\n",
    "def preprocess_function(examples):\n",
    "    inputs = []\n",
    "    targets = []\n",
    "    for context, question, answers in zip(examples['context'], examples['question'], examples['answers']):\n",
    "        # extract first answer text\n",
    "        answer_text = answers['text'][0]\n",
    "        # build prompt and full text\n",
    "        target = \" \"+ answer_text + tokenizer.eos_token\n",
    "        full_text = f\"Context: {context}\\nQuestion: {question}\\nAnswer:\"+ target \n",
    "        targets.append(target.replace(u'\\xa0', u' '))\n",
    "\n",
    "\n",
    "        inputs.append(full_text.replace(u'\\xa0', u' '))\n",
    "        \n",
    "    # tokenize full sequences\n",
    "    model_inputs = tokenizer(\n",
    "        inputs,\n",
    "        max_length=max_length,\n",
    "        truncation=True,\n",
    "        padding=False,\n",
    "        add_special_tokens=True \n",
    "    )\n",
    "    targets_len = [len(t_ids) for t_ids in tokenizer(targets, add_special_tokens=False).input_ids ]\n",
    "    labels = []\n",
    "    for i, input_ids in enumerate(model_inputs['input_ids']):\n",
    "        label_ids = [-100]* (len(input_ids)-targets_len[i])  + input_ids[-targets_len[i]:]\n",
    "        labels.append(label_ids)\n",
    "    model_inputs['labels'] = labels\n",
    "    return model_inputs\n",
    "\n",
    "# Data collator\n",
    "class QADataCollator:\n",
    "    def __init__(self, tokenizer, max_length=256):\n",
    "        self.tokenizer = tokenizer\n",
    "        self.max_length = max_length\n",
    "\n",
    "    def __call__(self, features):\n",
    "        batch_input_ids = [torch.tensor(f['input_ids']) for f in features]\n",
    "        batch_attention = [torch.tensor(f['attention_mask']) for f in features]\n",
    "        batch_labels     = [torch.tensor(f['labels']) for f in features]\n",
    "\n",
    "        \n",
    "        input_ids = torch.nn.utils.rnn.pad_sequence(\n",
    "            batch_input_ids , batch_first=True, padding_value=self.tokenizer.pad_token_id\n",
    "        )\n",
    "        attention_mask = torch.nn.utils.rnn.pad_sequence(\n",
    "            batch_attention, batch_first=True, padding_value=0\n",
    "        )\n",
    "        labels = torch.nn.utils.rnn.pad_sequence(\n",
    "            batch_labels , batch_first=True, padding_value=-100\n",
    "        )\n",
    "        return {\n",
    "            'input_ids': input_ids,\n",
    "            'attention_mask': attention_mask,\n",
    "            'labels': labels,\n",
    "        }\n",
    "\n",
    "\n",
    "\n",
    "# Apply preprocessing\n",
    "tok_train_ds = train_ds.map(\n",
    "    preprocess_function,\n",
    "    batched=True,\n",
    "    remove_columns=train_ds.column_names,\n",
    ")\n",
    "tok_eval_ds = eval_ds.map(\n",
    "    preprocess_function,\n",
    "    batched=True,\n",
    "    remove_columns=eval_ds.column_names,\n",
    ")\n",
    "\n",
    "print(f\"Training examples: {len(tok_train_ds)}\")\n",
    "print(f\"Eval examples: {len(tok_eval_ds)}\")\n"
   ]
  },
  {
   "cell_type": "markdown",
   "id": "0c49fe69-047f-4278-97c5-638b340cbeee",
   "metadata": {},
   "source": [
    "## model Train"
   ]
  },
  {
   "cell_type": "code",
   "execution_count": 4,
   "id": "78923753-4b48-4e79-bdbf-fadcd69db712",
   "metadata": {},
   "outputs": [
    {
     "name": "stderr",
     "output_type": "stream",
     "text": [
      "wandb: You can find your API key in your browser here: http://localhost:8080/authorize?ref=models\n",
      "wandb: Paste an API key from your profile and hit enter:"
     ]
    },
    {
     "name": "stdout",
     "output_type": "stream",
     "text": [
      "  ········\n"
     ]
    },
    {
     "name": "stderr",
     "output_type": "stream",
     "text": [
      "wandb: WARNING If you're specifying your api key in code, ensure this code is not shared publicly.\n",
      "wandb: WARNING Consider setting the WANDB_API_KEY environment variable, or running `wandb login` from the command line.\n",
      "wandb: Appending key for localhost:8080 to your netrc file: C:\\Users\\Aha\\_netrc\n",
      "wandb: Currently logged in as: abcde to http://localhost:8080. Use `wandb login --relogin` to force relogin\n"
     ]
    },
    {
     "data": {
      "text/html": [
       "creating run (0.0s)"
      ],
      "text/plain": [
       "<IPython.core.display.HTML object>"
      ]
     },
     "metadata": {},
     "output_type": "display_data"
    },
    {
     "data": {
      "text/html": [
       "Tracking run with wandb version 0.21.0"
      ],
      "text/plain": [
       "<IPython.core.display.HTML object>"
      ]
     },
     "metadata": {},
     "output_type": "display_data"
    },
    {
     "data": {
      "text/html": [
       "Run data is saved locally in <code>C:\\Users\\Aha\\LORA\\wandb\\run-20250711_142410-ecep2sz3</code>"
      ],
      "text/plain": [
       "<IPython.core.display.HTML object>"
      ]
     },
     "metadata": {},
     "output_type": "display_data"
    },
    {
     "data": {
      "text/html": [
       "Syncing run <strong><a href='http://localhost:8080/abcde/lora-squad/runs/ecep2sz3' target=\"_blank\">final_config</a></strong> to <a href='http://localhost:8080/abcde/lora-squad' target=\"_blank\">Weights & Biases</a> (<a href='https://wandb.me/developer-guide' target=\"_blank\">docs</a>)<br>"
      ],
      "text/plain": [
       "<IPython.core.display.HTML object>"
      ]
     },
     "metadata": {},
     "output_type": "display_data"
    },
    {
     "data": {
      "text/html": [
       " View project at <a href='http://localhost:8080/abcde/lora-squad' target=\"_blank\">http://localhost:8080/abcde/lora-squad</a>"
      ],
      "text/plain": [
       "<IPython.core.display.HTML object>"
      ]
     },
     "metadata": {},
     "output_type": "display_data"
    },
    {
     "data": {
      "text/html": [
       " View run at <a href='http://localhost:8080/abcde/lora-squad/runs/ecep2sz3' target=\"_blank\">http://localhost:8080/abcde/lora-squad/runs/ecep2sz3</a>"
      ],
      "text/plain": [
       "<IPython.core.display.HTML object>"
      ]
     },
     "metadata": {},
     "output_type": "display_data"
    },
    {
     "name": "stderr",
     "output_type": "stream",
     "text": [
      "C:\\Users\\Aha\\AppData\\Local\\Programs\\Python\\Python312\\Lib\\site-packages\\peft\\tuners\\lora\\layer.py:1803: UserWarning: fan_in_fan_out is set to False but the target module is `Conv1D`. Setting fan_in_fan_out to True.\n",
      "  warnings.warn(\n"
     ]
    },
    {
     "name": "stdout",
     "output_type": "stream",
     "text": [
      "trainable params: 2,359,296 || all params: 126,799,104 || trainable%: 1.8607\n"
     ]
    },
    {
     "name": "stderr",
     "output_type": "stream",
     "text": [
      "No label_names provided for model class `PeftModelForCausalLM`. Since `PeftModel` hides base models input arguments, if label_names is not given, label_names can't be set automatically within `Trainer`. Note that empty label_names list will be used instead.\n"
     ]
    },
    {
     "name": "stdout",
     "output_type": "stream",
     "text": [
      "Starting training...\n"
     ]
    },
    {
     "name": "stderr",
     "output_type": "stream",
     "text": [
      "C:\\Users\\Aha\\AppData\\Local\\Programs\\Python\\Python312\\Lib\\site-packages\\transformers\\integrations\\sdpa_attention.py:66: UserWarning: 1Torch was not compiled with flash attention. (Triggered internally at ..\\aten\\src\\ATen\\native\\transformers\\cuda\\sdp_utils.cpp:263.)\n",
      "  attn_output = torch.nn.functional.scaled_dot_product_attention(\n",
      "`loss_type=None` was set in the config but it is unrecognised.Using the default loss: `ForCausalLMLoss`.\n"
     ]
    },
    {
     "data": {
      "text/html": [
       "\n",
       "    <div>\n",
       "      \n",
       "      <progress value='4500' max='4500' style='width:300px; height:20px; vertical-align: middle;'></progress>\n",
       "      [4500/4500 2:07:30, Epoch 3/3]\n",
       "    </div>\n",
       "    <table border=\"1\" class=\"dataframe\">\n",
       "  <thead>\n",
       " <tr style=\"text-align: left;\">\n",
       "      <th>Step</th>\n",
       "      <th>Training Loss</th>\n",
       "      <th>Validation Loss</th>\n",
       "    </tr>\n",
       "  </thead>\n",
       "  <tbody>\n",
       "    <tr>\n",
       "      <td>500</td>\n",
       "      <td>1.016100</td>\n",
       "      <td>0.730582</td>\n",
       "    </tr>\n",
       "    <tr>\n",
       "      <td>1000</td>\n",
       "      <td>0.851000</td>\n",
       "      <td>0.659836</td>\n",
       "    </tr>\n",
       "    <tr>\n",
       "      <td>1500</td>\n",
       "      <td>0.815200</td>\n",
       "      <td>0.644660</td>\n",
       "    </tr>\n",
       "    <tr>\n",
       "      <td>2000</td>\n",
       "      <td>0.720200</td>\n",
       "      <td>0.646412</td>\n",
       "    </tr>\n",
       "    <tr>\n",
       "      <td>2500</td>\n",
       "      <td>0.667700</td>\n",
       "      <td>0.620169</td>\n",
       "    </tr>\n",
       "    <tr>\n",
       "      <td>3000</td>\n",
       "      <td>0.673100</td>\n",
       "      <td>0.601514</td>\n",
       "    </tr>\n",
       "    <tr>\n",
       "      <td>3500</td>\n",
       "      <td>0.542900</td>\n",
       "      <td>0.611377</td>\n",
       "    </tr>\n",
       "    <tr>\n",
       "      <td>4000</td>\n",
       "      <td>0.549500</td>\n",
       "      <td>0.615552</td>\n",
       "    </tr>\n",
       "    <tr>\n",
       "      <td>4500</td>\n",
       "      <td>0.537700</td>\n",
       "      <td>0.603587</td>\n",
       "    </tr>\n",
       "  </tbody>\n",
       "</table><p>"
      ],
      "text/plain": [
       "<IPython.core.display.HTML object>"
      ]
     },
     "metadata": {},
     "output_type": "display_data"
    },
    {
     "name": "stderr",
     "output_type": "stream",
     "text": [
      "C:\\Users\\Aha\\AppData\\Local\\Programs\\Python\\Python312\\Lib\\site-packages\\peft\\utils\\other.py:1221: UserWarning: Unable to fetch remote file due to the following error (ProtocolError('Connection aborted.', RemoteDisconnected('Remote end closed connection without response')), '(Request ID: 184f0357-7b6b-45a5-aae9-e1e86055f281)') - silently ignoring the lookup for the file config.json in gpt2.\n",
      "  warnings.warn(\n",
      "C:\\Users\\Aha\\AppData\\Local\\Programs\\Python\\Python312\\Lib\\site-packages\\peft\\utils\\save_and_load.py:238: UserWarning: Could not find a config file in gpt2 - will assume that the vocabulary was not modified.\n",
      "  warnings.warn(\n",
      "C:\\Users\\Aha\\AppData\\Local\\Programs\\Python\\Python312\\Lib\\site-packages\\peft\\utils\\other.py:1221: UserWarning: Unable to fetch remote file due to the following error (ProtocolError('Connection aborted.', RemoteDisconnected('Remote end closed connection without response')), '(Request ID: 98f70854-41fb-4664-80b8-8c21c4972bce)') - silently ignoring the lookup for the file config.json in gpt2.\n",
      "  warnings.warn(\n",
      "C:\\Users\\Aha\\AppData\\Local\\Programs\\Python\\Python312\\Lib\\site-packages\\peft\\utils\\save_and_load.py:238: UserWarning: Could not find a config file in gpt2 - will assume that the vocabulary was not modified.\n",
      "  warnings.warn(\n",
      "C:\\Users\\Aha\\AppData\\Local\\Programs\\Python\\Python312\\Lib\\site-packages\\peft\\utils\\other.py:1221: UserWarning: Unable to fetch remote file due to the following error (ProtocolError('Connection aborted.', RemoteDisconnected('Remote end closed connection without response')), '(Request ID: ee498e21-2392-436f-802c-0bd96168ceca)') - silently ignoring the lookup for the file config.json in gpt2.\n",
      "  warnings.warn(\n",
      "C:\\Users\\Aha\\AppData\\Local\\Programs\\Python\\Python312\\Lib\\site-packages\\peft\\utils\\save_and_load.py:238: UserWarning: Could not find a config file in gpt2 - will assume that the vocabulary was not modified.\n",
      "  warnings.warn(\n"
     ]
    },
    {
     "data": {
      "text/html": [
       "\n",
       "    <div>\n",
       "      \n",
       "      <progress value='75' max='75' style='width:300px; height:20px; vertical-align: middle;'></progress>\n",
       "      [75/75 00:48]\n",
       "    </div>\n",
       "    "
      ],
      "text/plain": [
       "<IPython.core.display.HTML object>"
      ]
     },
     "metadata": {},
     "output_type": "display_data"
    },
    {
     "name": "stdout",
     "output_type": "stream",
     "text": [
      "Evaluation results: {'eval_loss': 0.6015138030052185, 'eval_runtime': 49.3907, 'eval_samples_per_second': 6.074, 'eval_steps_per_second': 1.519, 'epoch': 3.0}\n"
     ]
    },
    {
     "name": "stderr",
     "output_type": "stream",
     "text": [
      "C:\\Users\\Aha\\AppData\\Local\\Programs\\Python\\Python312\\Lib\\site-packages\\peft\\utils\\other.py:1221: UserWarning: Unable to fetch remote file due to the following error (ProtocolError('Connection aborted.', RemoteDisconnected('Remote end closed connection without response')), '(Request ID: 6944cc1a-0eda-428a-b26a-6caff4f15308)') - silently ignoring the lookup for the file config.json in gpt2.\n",
      "  warnings.warn(\n",
      "C:\\Users\\Aha\\AppData\\Local\\Programs\\Python\\Python312\\Lib\\site-packages\\peft\\utils\\save_and_load.py:238: UserWarning: Could not find a config file in gpt2 - will assume that the vocabulary was not modified.\n",
      "  warnings.warn(\n"
     ]
    }
   ],
   "source": [
    "\n",
    "\n",
    "\n",
    "\n",
    "wandb.init(project=\"lora-squad\", name = config['run_name'] ,  config=config)\n",
    "\n",
    "\n",
    "# Freeze base model parameters\n",
    "for param in model.parameters():\n",
    "    param.requires_grad = False\n",
    "\n",
    "# LoRA configuration\n",
    "lora_config = LoraConfig(\n",
    "    r= config['lora_r'] ,\n",
    "    lora_alpha=config['lora_alpha'],\n",
    "    lora_dropout= config['lora_dropout'],\n",
    "    task_type=TaskType.CAUSAL_LM,\n",
    "    target_modules= config['target_modules']\n",
    ")\n",
    "# Wrap model with LoRA\n",
    "lora_model = get_peft_model(model, lora_config)\n",
    "lora_model.print_trainable_parameters()\n",
    "\n",
    "\n",
    "# Verify LoRA setup\n",
    "#for name, param in lora_model.named_parameters():\n",
    "#    if param.requires_grad:\n",
    "#        print(f\"Trainable: {name}\")\n",
    "\n",
    "# Data collator instance\n",
    "data_collator = QADataCollator(tokenizer, max_length=max_length)\n",
    "\n",
    "\n",
    "\n",
    "\n",
    "\n",
    "# Training setup\n",
    "from transformers import TrainingArguments, Trainer\n",
    "training_args = TrainingArguments(\n",
    "    output_dir=\"./lora_squad\",\n",
    "    per_device_train_batch_size=config['train_batch_size'],\n",
    "    per_device_eval_batch_size=config['eval_batch_size'],\n",
    "    learning_rate= config['learning_rate'] ,\n",
    "    num_train_epochs= config['num_train_epochs'],\n",
    "    logging_steps=config['logging_steps'],\n",
    "    eval_strategy=\"steps\",\n",
    "    eval_steps=config['eval_steps'],\n",
    "    save_steps=config['save_steps'],\n",
    "    save_total_limit=2,\n",
    "    load_best_model_at_end=True,   \n",
    "    report_to=[\"wandb\"],\n",
    "    run_name=\"lora-squad-run\",  \n",
    ")\n",
    "\n",
    "trainer = Trainer(\n",
    "    model=lora_model,\n",
    "    args=training_args,\n",
    "    train_dataset=tok_train_ds,\n",
    "    eval_dataset=tok_eval_ds,\n",
    "    data_collator=data_collator,\n",
    "    #callbacks=[LoggingCallback(logger)]\n",
    ")\n",
    "\n",
    "# Train\n",
    "print(\"Starting training...\")\n",
    "trainer.train()\n",
    "\n",
    "# Evaluate\n",
    "evaluation_result = trainer.evaluate()\n",
    "print(\"Evaluation results:\", evaluation_result)\n",
    "\n",
    "# Save the fine-tuned model\n",
    "lora_model.save_pretrained(\"./lora_squad\")\n"
   ]
  },
  {
   "cell_type": "markdown",
   "id": "06082f58-d3bc-486b-a09b-50ee0d3a709a",
   "metadata": {},
   "source": [
    "## model evaulation"
   ]
  },
  {
   "cell_type": "code",
   "execution_count": 4,
   "id": "0fa03566-30d0-4c78-af43-da4d9babfc92",
   "metadata": {},
   "outputs": [
    {
     "data": {
      "text/plain": [
       "PeftModelForCausalLM(\n",
       "  (base_model): LoraModel(\n",
       "    (model): GPT2LMHeadModel(\n",
       "      (transformer): GPT2Model(\n",
       "        (wte): Embedding(50257, 768)\n",
       "        (wpe): Embedding(1024, 768)\n",
       "        (drop): Dropout(p=0.1, inplace=False)\n",
       "        (h): ModuleList(\n",
       "          (0-11): 12 x GPT2Block(\n",
       "            (ln_1): LayerNorm((768,), eps=1e-05, elementwise_affine=True)\n",
       "            (attn): GPT2Attention(\n",
       "              (c_attn): lora.Linear(\n",
       "                (base_layer): Conv1D(nf=2304, nx=768)\n",
       "                (lora_dropout): ModuleDict(\n",
       "                  (default): Dropout(p=0.05, inplace=False)\n",
       "                )\n",
       "                (lora_A): ModuleDict(\n",
       "                  (default): Linear(in_features=768, out_features=16, bias=False)\n",
       "                )\n",
       "                (lora_B): ModuleDict(\n",
       "                  (default): Linear(in_features=16, out_features=2304, bias=False)\n",
       "                )\n",
       "                (lora_embedding_A): ParameterDict()\n",
       "                (lora_embedding_B): ParameterDict()\n",
       "                (lora_magnitude_vector): ModuleDict()\n",
       "              )\n",
       "              (c_proj): lora.Linear(\n",
       "                (base_layer): Conv1D(nf=768, nx=768)\n",
       "                (lora_dropout): ModuleDict(\n",
       "                  (default): Dropout(p=0.05, inplace=False)\n",
       "                )\n",
       "                (lora_A): ModuleDict(\n",
       "                  (default): Linear(in_features=768, out_features=16, bias=False)\n",
       "                )\n",
       "                (lora_B): ModuleDict(\n",
       "                  (default): Linear(in_features=16, out_features=768, bias=False)\n",
       "                )\n",
       "                (lora_embedding_A): ParameterDict()\n",
       "                (lora_embedding_B): ParameterDict()\n",
       "                (lora_magnitude_vector): ModuleDict()\n",
       "              )\n",
       "              (attn_dropout): Dropout(p=0.1, inplace=False)\n",
       "              (resid_dropout): Dropout(p=0.1, inplace=False)\n",
       "            )\n",
       "            (ln_2): LayerNorm((768,), eps=1e-05, elementwise_affine=True)\n",
       "            (mlp): GPT2MLP(\n",
       "              (c_fc): lora.Linear(\n",
       "                (base_layer): Conv1D(nf=3072, nx=768)\n",
       "                (lora_dropout): ModuleDict(\n",
       "                  (default): Dropout(p=0.05, inplace=False)\n",
       "                )\n",
       "                (lora_A): ModuleDict(\n",
       "                  (default): Linear(in_features=768, out_features=16, bias=False)\n",
       "                )\n",
       "                (lora_B): ModuleDict(\n",
       "                  (default): Linear(in_features=16, out_features=3072, bias=False)\n",
       "                )\n",
       "                (lora_embedding_A): ParameterDict()\n",
       "                (lora_embedding_B): ParameterDict()\n",
       "                (lora_magnitude_vector): ModuleDict()\n",
       "              )\n",
       "              (c_proj): lora.Linear(\n",
       "                (base_layer): Conv1D(nf=768, nx=3072)\n",
       "                (lora_dropout): ModuleDict(\n",
       "                  (default): Dropout(p=0.05, inplace=False)\n",
       "                )\n",
       "                (lora_A): ModuleDict(\n",
       "                  (default): Linear(in_features=3072, out_features=16, bias=False)\n",
       "                )\n",
       "                (lora_B): ModuleDict(\n",
       "                  (default): Linear(in_features=16, out_features=768, bias=False)\n",
       "                )\n",
       "                (lora_embedding_A): ParameterDict()\n",
       "                (lora_embedding_B): ParameterDict()\n",
       "                (lora_magnitude_vector): ModuleDict()\n",
       "              )\n",
       "              (act): NewGELUActivation()\n",
       "              (dropout): Dropout(p=0.1, inplace=False)\n",
       "            )\n",
       "          )\n",
       "        )\n",
       "        (ln_f): LayerNorm((768,), eps=1e-05, elementwise_affine=True)\n",
       "      )\n",
       "      (lm_head): Linear(in_features=768, out_features=50257, bias=False)\n",
       "    )\n",
       "  )\n",
       ")"
      ]
     },
     "execution_count": 4,
     "metadata": {},
     "output_type": "execute_result"
    }
   ],
   "source": [
    "\n",
    "def generate_answer(model, tokenizer, context, question, max_new_tokens=50,do_sample=False,temperature=1.0,top_k=0,top_p=1.0):\n",
    "    prompt = f\"Context: {context}\\nQuestion: {question}\\nAnswer: \"\n",
    "    inputs = tokenizer(prompt, return_tensors=\"pt\").to(model.device)\n",
    "    gen_kwargs = {\n",
    "        \"max_new_tokens\": max_new_tokens,\n",
    "        \"do_sample\": do_sample,\n",
    "        \"pad_token_id\": tokenizer.pad_token_id,\n",
    "    }\n",
    "    if do_sample:\n",
    "        gen_kwargs[\"temperature\"] = temperature\n",
    "        if top_k is not None:\n",
    "            gen_kwargs[\"top_k\"] = top_k\n",
    "        if top_p is not None:\n",
    "            gen_kwargs[\"top_p\"] = top_p\n",
    "    \n",
    "    output = model.generate(**inputs, **gen_kwargs)\n",
    "    \n",
    "    gen_tokens = output[0][inputs['input_ids'].shape[1]:]\n",
    "    answer = tokenizer.decode(gen_tokens, skip_special_tokens=True)\n",
    "    return answer\n",
    "\n",
    "# Load fine-tuned model for testing\n",
    "base_model = AutoModelForCausalLM.from_pretrained(model_name, config=config)\n",
    "ft_model = PeftModel.from_pretrained(base_model, \"./lora_squad\")\n",
    "#ft_model.disable_adapter() \n",
    "#ft_model = base_model\n",
    "ft_model.eval()\n"
   ]
  },
  {
   "cell_type": "code",
   "execution_count": null,
   "id": "18f4c34b-f03d-462a-8823-0b5800a50314",
   "metadata": {},
   "outputs": [
    {
     "name": "stdout",
     "output_type": "stream",
     "text": [
      "\n",
      "=== Testing Fine-tuned Model ===\n",
      "Example 1:\n",
      "Question: In what year did Massachusetts first require children to be educated in schools?\n",
      "Prediction:  1852\n",
      "Ground truth: 1852\n",
      "\n",
      "Example 2:\n",
      "Question: When were stromules discovered?\n",
      "Prediction:  1962\n",
      "Ground truth: 1962\n",
      "\n",
      "Example 3:\n",
      "Question: Which artist who had a major influence on the Gothic Revival is represented in the V&A's British galleries?\n",
      "Prediction:  Horace Walpole\n",
      "Ground truth: Horace Walpole\n",
      "\n"
     ]
    }
   ],
   "source": [
    "WBinitiated = wandb.run is not None\n",
    "\n",
    "# Test on validation examples\n",
    "print(\"\\n=== Testing Fine-tuned Model ===\")\n",
    "for i, example in enumerate(vali_ds):\n",
    "    if i >= 3:\n",
    "        break\n",
    "    pred = generate_answer(ft_model, tokenizer, example['context'], example['question'])\n",
    "    print(f\"Example {i+1}:\")\n",
    "    print(\"Question:\", example['question'])\n",
    "    print(\"Prediction:\", pred)\n",
    "    print(\"Ground truth:\", example['answers']['text'][0])\n",
    "    print()\n",
    "\n",
    "    if WBinitiated:\n",
    "        wandb.log({\n",
    "            \"example_id\": example['id'],\n",
    "            \"question\": example['question'],\n",
    "            \"ground_truth\": example['answers']['text'][0],\n",
    "            \"prediction\": pred\n",
    "        })\n",
    "\n",
    "# Compute SQuAD metrics\n",
    "predictions = []\n",
    "references = []\n",
    "for example in vali_ds:\n",
    "    pred = generate_answer(ft_model, tokenizer, example['context'], example['question'])\n",
    "    predictions.append({\"id\": example['id'], \"prediction_text\": pred})\n",
    "    references.append({\"id\": example['id'], \"answers\": example['answers']})\n",
    "\n",
    "squad_metric = evaluate.load(\"squad\")\n",
    "results = squad_metric.compute(predictions=predictions, references=references)\n",
    "print(f\"\\nSQuAD Metrics: {results}\")\n",
    "\n",
    "if WBinitiated:\n",
    "    wandb.log(results)\n",
    "    # Finish wandb run\n",
    "    wandb.finish()\n"
   ]
  },
  {
   "cell_type": "code",
   "execution_count": 5,
   "id": "99c66ae2-5746-42b8-88a9-8b7c62cc5a59",
   "metadata": {},
   "outputs": [
    {
     "name": "stdout",
     "output_type": "stream",
     "text": [
      "\n",
      "=== Testing: Greedy ===\n",
      "SQuAD Metrics (Greedy): {'exact_match': 32.0, 'f1': 42.724612041009095}\n",
      "\n",
      "=== Testing: Top-k (k=10) ===\n",
      "SQuAD Metrics (Top-k (k=10)): {'exact_match': 23.25, 'f1': 33.24106903641948}\n",
      "\n",
      "=== Testing: Top-k (k=25) ===\n",
      "SQuAD Metrics (Top-k (k=25)): {'exact_match': 22.25, 'f1': 31.334445273191246}\n",
      "\n",
      "=== Testing: Top-k (k=50) ===\n",
      "SQuAD Metrics (Top-k (k=50)): {'exact_match': 19.5, 'f1': 30.461106519444623}\n",
      "\n",
      "=== Testing: Top-p (p=0.8) ===\n",
      "SQuAD Metrics (Top-p (p=0.8)): {'exact_match': 23.5, 'f1': 32.783404898478445}\n",
      "\n",
      "=== Testing: Top-p (p=0.9) ===\n",
      "SQuAD Metrics (Top-p (p=0.9)): {'exact_match': 22.5, 'f1': 33.13020609163799}\n",
      "\n",
      "=== Testing: Top-p (p=0.95) ===\n",
      "SQuAD Metrics (Top-p (p=0.95)): {'exact_match': 22.5, 'f1': 29.932241600991595}\n",
      "\n",
      "=== Testing: Temperature 0.7 ===\n",
      "SQuAD Metrics (Temperature 0.7): {'exact_match': 22.25, 'f1': 32.05306540649791}\n",
      "\n",
      "=== Testing: Temperature 1.0 ===\n",
      "SQuAD Metrics (Temperature 1.0): {'exact_match': 19.5, 'f1': 29.151710810689142}\n",
      "\n",
      "=== Testing: Temperature 1.3 ===\n",
      "SQuAD Metrics (Temperature 1.3): {'exact_match': 10.25, 'f1': 17.966786028299182}\n"
     ]
    }
   ],
   "source": [
    "decoding_configs = [\n",
    "    {\"name\": \"Greedy\", \"do_sample\": False},\n",
    "    {\"name\": \"Top-k (k=10)\", \"do_sample\": True, \"top_k\": 10},\n",
    "    {\"name\": \"Top-k (k=25)\", \"do_sample\": True, \"top_k\": 25},\n",
    "    {\"name\": \"Top-k (k=50)\", \"do_sample\": True, \"top_k\": 50},\n",
    "    {\"name\": \"Top-p (p=0.8)\", \"do_sample\": True, \"top_p\": 0.8},\n",
    "    {\"name\": \"Top-p (p=0.9)\", \"do_sample\": True, \"top_p\": 0.9},\n",
    "    {\"name\": \"Top-p (p=0.95)\", \"do_sample\": True, \"top_p\": 0.95},\n",
    "    {\"name\": \"Temperature 0.7\", \"do_sample\": True, \"temperature\": 0.7},\n",
    "    {\"name\": \"Temperature 1.0\", \"do_sample\": True, \"temperature\": 1.0},\n",
    "    {\"name\": \"Temperature 1.3\", \"do_sample\": True, \"temperature\": 1.3},\n",
    "]\n",
    "\n",
    "results = {}\n",
    "for config in decoding_configs:\n",
    "    print(f\"\\n=== Testing: {config['name']} ===\")\n",
    "\n",
    "    predictions = []\n",
    "    references = []\n",
    "\n",
    "    for example in vali_ds:\n",
    "        pred = generate_answer(\n",
    "            ft_model, tokenizer,\n",
    "            example['context'], example['question'],\n",
    "            max_new_tokens=50,\n",
    "            do_sample=config[\"do_sample\"],\n",
    "            temperature=config.get(\"temperature\", 1.0),\n",
    "            top_k=config.get(\"top_k\", 0),\n",
    "            top_p=config.get(\"top_p\", 1.0)\n",
    "        )\n",
    "        predictions.append({\"id\": example['id'], \"prediction_text\": pred})\n",
    "        references.append({\"id\": example['id'], \"answers\": example['answers']})\n",
    "\n",
    "\n",
    "    # Compute and log metrics for this config\n",
    "    squad_metric = evaluate.load(\"squad\")\n",
    "    result = squad_metric.compute(predictions=predictions, references=references)\n",
    "    results[config['name']] = result\n",
    "    print(f\"SQuAD Metrics ({config['name']}): {result}\")\n",
    "    "
   ]
  },
  {
   "cell_type": "code",
   "execution_count": 9,
   "id": "61beac1c-8f82-4bb4-b805-8b9d0d9976a7",
   "metadata": {},
   "outputs": [],
   "source": [
    "import matplotlib.pyplot as plt\n",
    "\n",
    "def plot_results(results, sort_by=\"f1\", title=\"\"):\n",
    "    if sort_by not in [\"f1\", \"exact_match\"]:\n",
    "        raise ValueError(\"sort_by must be either 'f1' or 'exact_match'\")\n",
    "\n",
    "    # Sort results by selected metric\n",
    "    sorted_items = sorted(results.items(), key=lambda item: item[1][sort_by], reverse=True)\n",
    "    config_names = [item[0] for item in sorted_items]\n",
    "    em_scores = [item[1]['exact_match'] for item in sorted_items]\n",
    "    f1_scores = [item[1]['f1'] for item in sorted_items]\n",
    "\n",
    "    x = np.arange(len(config_names))\n",
    "    width = 0.35\n",
    "\n",
    "    fig, ax = plt.subplots(figsize=(13, 6))\n",
    "\n",
    "    rects1 = ax.bar(x - width/2, em_scores, width, label='Exact Match', color='#4C72B0')\n",
    "    rects2 = ax.bar(x + width/2, f1_scores, width, label='F1 Score', color='#55A868')\n",
    "\n",
    "    ax.set_ylabel('Score (%)')\n",
    "    ax.set_title(title)\n",
    "    ax.set_xticks(x)\n",
    "    ax.set_xticklabels(config_names, rotation=30, ha='right')\n",
    "    ax.set_ylim(0, 100)\n",
    "    ax.legend()\n",
    "\n",
    "    def add_labels(rects):\n",
    "        for rect in rects:\n",
    "            height = rect.get_height()\n",
    "            ax.annotate(f'{height:.1f}',\n",
    "                        xy=(rect.get_x() + rect.get_width() / 2, height),\n",
    "                        xytext=(0, 3),\n",
    "                        textcoords=\"offset points\",\n",
    "                        ha='center', fontsize=9)\n",
    "\n",
    "    add_labels(rects1)\n",
    "    add_labels(rects2)\n",
    "\n",
    "    fig.tight_layout()\n",
    "    plt.show()\n"
   ]
  },
  {
   "cell_type": "code",
   "execution_count": 10,
   "id": "d2211632-d9f9-4547-b0da-e5cdd148c660",
   "metadata": {},
   "outputs": [
    {
     "data": {
      "image/png": "[encoded data removed]",
      "text/plain": [
       "<Figure size 1300x600 with 1 Axes>"
      ]
     },
     "metadata": {},
     "output_type": "display_data"
    }
   ],
   "source": [
    "plot_results(results, sort_by=\"f1\" , title = \"Decoding Strategy Performance on SQuAD\")"
   ]
  },
  {
   "cell_type": "code",
   "execution_count": null,
   "id": "bd582691-a1fc-439e-b69f-e9b2cbd17727",
   "metadata": {},
   "outputs": [],
   "source": []
  }
 ],
 "metadata": {
  "kernelspec": {
   "display_name": "Python 3 (ipykernel)",
   "language": "python",
   "name": "python3"
  },
  "language_info": {
   "codemirror_mode": {
    "name": "ipython",
    "version": 3
   },
   "file_extension": ".py",
   "mimetype": "text/x-python",
   "name": "python",
   "nbconvert_exporter": "python",
   "pygments_lexer": "ipython3",
   "version": "3.12.2"
  }
 },
 "nbformat": 4,
 "nbformat_minor": 5
}
